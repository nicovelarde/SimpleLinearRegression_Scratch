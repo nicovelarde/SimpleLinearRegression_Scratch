{
 "cells": [
  {
   "cell_type": "code",
   "execution_count": 1,
   "id": "bb4ad688-c554-4649-89d7-b881a950262f",
   "metadata": {},
   "outputs": [
    {
     "name": "stdout",
     "output_type": "stream",
     "text": [
      "Predicted values: [5.2, 6.0]\n",
      "Mean Squared Error: 0.020000000000000035\n",
      "Root Mean Squared Error: 0.14142135623730964\n",
      "R2 Score: 0.6799999999999998\n"
     ]
    }
   ],
   "source": [
    "import math\n",
    "import statistics\n",
    "\n",
    "class SimpleLinearRegression:\n",
    "    def __init__(self):\n",
    "        self.slope = None\n",
    "        self.intercept = None\n",
    "\n",
    "    def fit(self, X, y):\n",
    "        n = len(X)\n",
    "        mean_x, mean_y = statistics.mean(X), statistics.mean(y)\n",
    "        numerator = sum((X[i] - mean_x) * (y[i] - mean_y) for i in range(n))\n",
    "        denominator = sum((X[i] - mean_x) ** 2 for i in range(n))\n",
    "        self.slope = numerator / denominator\n",
    "        self.intercept = mean_y - self.slope * mean_x\n",
    "\n",
    "    def predict(self, X):\n",
    "        return [self.slope * x + self.intercept for x in X]\n",
    "\n",
    "    def mean_squared_error(self, y_true, y_pred):\n",
    "        return sum((y_true[i] - y_pred[i]) ** 2 for i in range(len(y_true))) / len(y_true)\n",
    "\n",
    "    def root_mean_squared_error(self, y_true, y_pred):\n",
    "        return math.sqrt(self.mean_squared_error(y_true, y_pred))\n",
    "\n",
    "    def r2_score(self, y_true, y_pred):\n",
    "        mean_y = statistics.mean(y_true)\n",
    "        total_variance = sum((y - mean_y) ** 2 for y in y_true)\n",
    "        explained_variance = sum((y_pred[i] - mean_y) ** 2 for i in range(len(y_true)))\n",
    "        return explained_variance / total_variance\n",
    "\n",
    "# Training data\n",
    "X_train = [1, 2, 4, 3, 5]\n",
    "y_train = [1, 3, 3, 2, 5]\n",
    "\n",
    "# Test data\n",
    "X_test = [6, 7]\n",
    "y_test = [5, 6]\n",
    "\n",
    "# Instantiate the model\n",
    "model = SimpleLinearRegression()\n",
    "\n",
    "# Fit the model\n",
    "model.fit(X_train, y_train)\n",
    "\n",
    "# Predict using the model\n",
    "y_pred = model.predict(X_test)\n",
    "\n",
    "# Evaluate the model\n",
    "mse = model.mean_squared_error(y_test, y_pred)\n",
    "rmse = model.root_mean_squared_error(y_test, y_pred)\n",
    "r2 = model.r2_score(y_test, y_pred)\n",
    "\n",
    "print(f\"Predicted values: {y_pred}\")\n",
    "print(f\"Mean Squared Error: {mse}\")\n",
    "print(f\"Root Mean Squared Error: {rmse}\")\n",
    "print(f\"R2 Score: {r2}\")\n",
    "\n"
   ]
  },
  {
   "cell_type": "code",
   "execution_count": null,
   "id": "ec941c33-5866-472a-bdba-47d704cfef61",
   "metadata": {},
   "outputs": [],
   "source": []
  }
 ],
 "metadata": {
  "kernelspec": {
   "display_name": "Python 3 (ipykernel)",
   "language": "python",
   "name": "python3"
  },
  "language_info": {
   "codemirror_mode": {
    "name": "ipython",
    "version": 3
   },
   "file_extension": ".py",
   "mimetype": "text/x-python",
   "name": "python",
   "nbconvert_exporter": "python",
   "pygments_lexer": "ipython3",
   "version": "3.11.7"
  }
 },
 "nbformat": 4,
 "nbformat_minor": 5
}
